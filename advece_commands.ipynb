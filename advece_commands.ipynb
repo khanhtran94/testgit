{
  "nbformat": 4,
  "nbformat_minor": 0,
  "metadata": {
    "colab": {
      "name": "advece_commands.ipynb",
      "version": "0.3.2",
      "provenance": [],
      "collapsed_sections": [],
      "include_colab_link": true
    },
    "kernelspec": {
      "name": "python3",
      "display_name": "Python 3"
    },
    "accelerator": "GPU"
  },
  "cells": [
    {
      "cell_type": "markdown",
      "metadata": {
        "id": "view-in-github",
        "colab_type": "text"
      },
      "source": [
        "<a href=\"https://colab.research.google.com/github/khanhtran94/testgit/blob/master/advece_commands.ipynb\" target=\"_parent\"><img src=\"https://colab.research.google.com/assets/colab-badge.svg\" alt=\"Open In Colab\"/></a>"
      ]
    },
    {
      "metadata": {
        "id": "vqixm-KTfl1y",
        "colab_type": "code",
        "colab": {}
      },
      "cell_type": "code",
      "source": [
        "from zipfile import ZipFile\n",
        "file_name = \"data.zip\""
      ],
      "execution_count": 0,
      "outputs": []
    },
    {
      "metadata": {
        "id": "O6T6Wxmen-t3",
        "colab_type": "code",
        "colab": {
          "base_uri": "https://localhost:8080/",
          "height": 34
        },
        "outputId": "4b90dc26-87a9-47fd-9f02-48a9fde10444"
      },
      "cell_type": "code",
      "source": [
        "!ls"
      ],
      "execution_count": 14,
      "outputs": [
        {
          "output_type": "stream",
          "text": [
            "data.zip  sample_data\n"
          ],
          "name": "stdout"
        }
      ]
    },
    {
      "metadata": {
        "id": "8SA2-bRXpx--",
        "colab_type": "code",
        "colab": {}
      },
      "cell_type": "code",
      "source": [
        "content/data.zip"
      ],
      "execution_count": 0,
      "outputs": []
    },
    {
      "metadata": {
        "id": "-CskKBKyn3Nx",
        "colab_type": "code",
        "colab": {
          "base_uri": "https://localhost:8080/",
          "height": 34
        },
        "outputId": "c1506949-cd2a-4afb-adec-2bdd7cc3f72d"
      },
      "cell_type": "code",
      "source": [
        "print(file_name)"
      ],
      "execution_count": 15,
      "outputs": [
        {
          "output_type": "stream",
          "text": [
            "data.zip\n"
          ],
          "name": "stdout"
        }
      ]
    },
    {
      "metadata": {
        "id": "DV_lVQ0cn0v6",
        "colab_type": "code",
        "colab": {
          "base_uri": "https://localhost:8080/",
          "height": 51
        },
        "outputId": "2ff46d11-bf41-4528-baa7-7f64fa054f42"
      },
      "cell_type": "code",
      "source": [
        "with ZipFile(file_name,'r') as zip:\n",
        "  print('extract')\n",
        "  zip.extractall()\n",
        "  print('done')"
      ],
      "execution_count": 27,
      "outputs": [
        {
          "output_type": "stream",
          "text": [
            "extract\n",
            "done\n"
          ],
          "name": "stdout"
        }
      ]
    },
    {
      "metadata": {
        "id": "J0UlZ81-_3P5",
        "colab_type": "code",
        "colab": {}
      },
      "cell_type": "code",
      "source": [
        "!pip install -q keras"
      ],
      "execution_count": 0,
      "outputs": []
    },
    {
      "metadata": {
        "id": "NNTEHGa2_84k",
        "colab_type": "code",
        "colab": {}
      },
      "cell_type": "code",
      "source": [
        "from tensorflow.python.client import device_lib\n",
        "device_lib.list_local_devices()"
      ],
      "execution_count": 0,
      "outputs": []
    },
    {
      "metadata": {
        "id": "5cMCPyyNB24y",
        "colab_type": "text"
      },
      "cell_type": "markdown",
      "source": [
        "kiểm tra thông tin thiết bị"
      ]
    },
    {
      "metadata": {
        "id": "jFAlvSzAAQtW",
        "colab_type": "code",
        "colab": {}
      },
      "cell_type": "code",
      "source": [
        "!cat /proc/cpuinfo"
      ],
      "execution_count": 0,
      "outputs": []
    },
    {
      "metadata": {
        "id": "bfrkaFApBw-E",
        "colab_type": "text"
      },
      "cell_type": "markdown",
      "source": [
        "kiểm tra thông tin cpu"
      ]
    },
    {
      "metadata": {
        "id": "4RUM3t_zAfyZ",
        "colab_type": "code",
        "colab": {}
      },
      "cell_type": "code",
      "source": [
        "!cat /proc/meminfo"
      ],
      "execution_count": 0,
      "outputs": []
    },
    {
      "metadata": {
        "id": "hQt2OtRWBvRu",
        "colab_type": "text"
      },
      "cell_type": "markdown",
      "source": [
        "kiểm tra bộ nhớ"
      ]
    },
    {
      "metadata": {
        "id": "AiFMP8BxAv6l",
        "colab_type": "code",
        "colab": {}
      },
      "cell_type": "code",
      "source": [
        "import tensorflow as tf\n",
        "tf.nn.sigmoid_cross_entropy_with_logits?"
      ],
      "execution_count": 0,
      "outputs": []
    },
    {
      "metadata": {
        "id": "LCOObgyWBl4X",
        "colab_type": "text"
      },
      "cell_type": "markdown",
      "source": [
        "khi dùng dấu chấm hỏi phía sau như thế này, thì nó sẽ load đinh nghĩa và cách dùng function của hàm này phía dưới\n"
      ]
    },
    {
      "metadata": {
        "id": "-LySdAlACDbx",
        "colab_type": "text"
      },
      "cell_type": "markdown",
      "source": [
        ""
      ]
    },
    {
      "metadata": {
        "id": "PbyosXOdB6de",
        "colab_type": "text"
      },
      "cell_type": "markdown",
      "source": [
        "Ấn file ->  revision history để xem lại các lịch sử chỉnh sửa hoặc thay đổi trong file\n"
      ]
    }
  ]
}